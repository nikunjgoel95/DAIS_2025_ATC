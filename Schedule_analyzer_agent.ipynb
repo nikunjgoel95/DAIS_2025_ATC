{
 "cells": [
  {
   "cell_type": "code",
   "execution_count": 0,
   "metadata": {
    "application/vnd.databricks.v1+cell": {
     "cellMetadata": {
      "byteLimit": 2048000,
      "rowLimit": 10000
     },
     "inputWidgets": {},
     "nuid": "38ff996f-2c8f-4cb3-8ad7-f87a7a44d035",
     "showTitle": false,
     "tableResultSettingsMap": {},
     "title": ""
    }
   },
   "outputs": [],
   "source": [
    "\n",
    "\n",
    "# Initialize Spark session\n",
    "from pyspark.sql import SparkSession\n",
    "\n",
    "spark = SparkSession.builder.appName(\"YourAppName\").getOrCreate()"
   ]
  },
  {
   "cell_type": "code",
   "execution_count": 0,
   "metadata": {
    "application/vnd.databricks.v1+cell": {
     "cellMetadata": {
      "byteLimit": 2048000,
      "rowLimit": 10000
     },
     "inputWidgets": {},
     "nuid": "6b60bd38-aeb8-4093-86c8-918840176465",
     "showTitle": false,
     "tableResultSettingsMap": {},
     "title": ""
    }
   },
   "outputs": [],
   "source": [
    "%pip install -r requirements.txt"
   ]
  },
  {
   "cell_type": "code",
   "execution_count": 0,
   "metadata": {
    "application/vnd.databricks.v1+cell": {
     "cellMetadata": {
      "byteLimit": 2048000,
      "rowLimit": 10000
     },
     "inputWidgets": {},
     "nuid": "01c1a2c7-c5b4-47a1-bfac-d042678cff43",
     "showTitle": false,
     "tableResultSettingsMap": {},
     "title": ""
    }
   },
   "outputs": [],
   "source": [
    "dbutils.library.restartPython()"
   ]
  },
  {
   "cell_type": "code",
   "execution_count": 0,
   "metadata": {
    "application/vnd.databricks.v1+cell": {
     "cellMetadata": {
      "byteLimit": 2048000,
      "rowLimit": 10000
     },
     "inputWidgets": {},
     "nuid": "0fff98ec-3511-4722-b6af-af7cf182bb64",
     "showTitle": false,
     "tableResultSettingsMap": {},
     "title": ""
    }
   },
   "outputs": [],
   "source": [
    "from databricks_langchain import ChatDatabricks\n",
    "from databricks.sdk import WorkspaceClient\n",
    "import os\n",
    "\n",
    "w = WorkspaceClient()\n",
    "\n",
    "os.environ[\"DATABRICKS_HOST\"] = w.config.host\n",
    "os.environ[\"DATABRICKS_TOKEN\"] = w.tokens.create(comment=\"for model serving\", lifetime_seconds=1200).token_value\n",
    "\n",
    "llm = ChatDatabricks(endpoint=\"databricks-llama-4-maverick\")"
   ]
  },
  {
   "cell_type": "code",
   "execution_count": 0,
   "metadata": {
    "application/vnd.databricks.v1+cell": {
     "cellMetadata": {
      "byteLimit": 2048000,
      "rowLimit": 10000
     },
     "inputWidgets": {},
     "nuid": "64b50735-2ae5-42b2-bf94-d5f06bd69b7f",
     "showTitle": false,
     "tableResultSettingsMap": {},
     "title": ""
    }
   },
   "outputs": [],
   "source": [
    "from langchain.agents import initialize_agent, Tool\n",
    "from langchain.tools import tool\n",
    "from langchain.agents.agent_types import AgentType\n",
    "# from langchain_anthropic import ChatAnthropic\n",
    "import sqlite3\n",
    "import os\n",
    "\n",
    "@tool\n",
    "def query_flight_schedule(sql: str) -> str:\n",
    "    \"\"\"Run a SQL query on the flight_status.db file.\"\"\"\n",
    "    try:\n",
    "        conn = sqlite3.connect(\"flight_status.db\")\n",
    "        cursor = conn.cursor()\n",
    "        cursor.execute(sql)\n",
    "        rows = cursor.fetchall()\n",
    "        col_names = [description[0] for description in cursor.description]\n",
    "        conn.close()\n",
    "        return \"\\n\".join([str(dict(zip(col_names, row))) for row in rows]) or \"No results.\"\n",
    "    except Exception as e:\n",
    "        return f\"SQL Error: {str(e)}\"\n",
    "\n",
    "\n",
    "@tool\n",
    "def query_geotracking(sql: str) -> str:\n",
    "    \"\"\"Run a SQL query on the geotracking.db file.\"\"\"\n",
    "    try:\n",
    "        conn = sqlite3.connect(\"geo_tracking.db\")\n",
    "        cursor = conn.cursor()\n",
    "        cursor.execute(sql)\n",
    "        rows = cursor.fetchall()\n",
    "        col_names = [description[0] for description in cursor.description]\n",
    "        conn.close()\n",
    "        return \"\\n\".join([str(dict(zip(col_names, row))) for row in rows]) or \"No results.\"\n",
    "    except Exception as e:\n",
    "        return f\"SQL Error: {str(e)}\"\n",
    "    \n",
    "\n",
    "\n",
    "@tool\n",
    "def query_weather(sql: str) -> str:\n",
    "    \"\"\"Run a SQL query on the weather.db file.\"\"\"\n",
    "    try:\n",
    "        conn = sqlite3.connect(\"weather.db\")\n",
    "        cursor = conn.cursor()\n",
    "        cursor.execute(sql)\n",
    "        rows = cursor.fetchall()\n",
    "        columns = [desc[0] for desc in cursor.description]\n",
    "        conn.close()\n",
    "        return \"\\n\".join([str(dict(zip(columns, row))) for row in rows]) or \"No results.\"\n",
    "    except Exception as e:\n",
    "        return f\"SQL Error in Weather Tool: {e}\""
   ]
  },
  {
   "cell_type": "code",
   "execution_count": 0,
   "metadata": {
    "application/vnd.databricks.v1+cell": {
     "cellMetadata": {
      "byteLimit": 2048000,
      "rowLimit": 10000
     },
     "inputWidgets": {},
     "nuid": "3a09278a-6af0-499b-9d2b-05bcaca61403",
     "showTitle": false,
     "tableResultSettingsMap": {},
     "title": ""
    }
   },
   "outputs": [],
   "source": [
    "tools = [\n",
    "    Tool(\n",
    "        name=\"ScheduleTrackerTool\",\n",
    "        func=query_flight_schedule,\n",
    "        description=\"Use this tool to query scheduled flights and detect conflicts, delays, or tight arrival overlaps. Accepts SQL input.\"\n",
    "    ),\n",
    "    Tool(\n",
    "        name=\"GeoTrackerTool\",\n",
    "        func=query_geotracking,\n",
    "        description=\"Use this tool to query geospatial data about flight phases and deviations from expected routes.\"\n",
    "    ),\n",
    "    Tool(\n",
    "        name=\"WeatherTrackerTool\",\n",
    "        func=query_weather,\n",
    "        description=\"Use this tool to query weather_by_flight table to get wind, visibility, storm/fog info, and help determine flight risk.\"\n",
    "    )\n",
    "]\n",
    "\n",
    "from langchain.memory import ConversationBufferMemory\n",
    "from langchain.schema import SystemMessage, HumanMessage\n",
    "\n",
    "system_message = SystemMessage(\n",
    "    content=(\n",
    "        \"You are an intelligent ATC assistant.\\n\"\n",
    "        \"When a flight sends a landing request like 'This is flight UN002 requesting to land', \"\n",
    "        \"you must:\\n\"\n",
    "        \"1. Identify the flight ID.\\n\"\n",
    "        \"2. Use tools to check:\\n\"\n",
    "        \"   - If the trajectory is clear and aligned.\\n\"\n",
    "        \"   - Whether weather risk is safe (risk score < 7).\\n\"\n",
    "        \"   - If any deviation or path correction is causing time conflict with other scheduled flights.\\n\"\n",
    "        \"3. Respond clearly with:\\n\"\n",
    "        \"   - Clearance to land or not\\n\"\n",
    "        \"   - Any issues (e.g., rerouting, weather, gate conflict)\\n\"\n",
    "        \"   - Suggestions if needed.\\n\"\n",
    "    )\n",
    ")\n",
    "\n",
    "memory = ConversationBufferMemory(memory_key=\"chat_history\", return_messages=True)\n",
    "\n",
    "atc_agent = initialize_agent(\n",
    "    tools=tools,\n",
    "    llm=llm,\n",
    "    agent=AgentType.ZERO_SHOT_REACT_DESCRIPTION,\n",
    "    verbose=True,\n",
    "    memory=memory,\n",
    "    handle_parsing_errors=True,\n",
    "    agent_kwargs={\n",
    "        \"system_message\": system_message\n",
    "    }\n",
    ")\n",
    "\n",
    "\n",
    "print(\"👨‍✈️ ATC Agent Ready. Type 'exit' to quit.\\n\")\n",
    "\n",
    "while True:\n",
    "    user_input = input(\"🧑‍💻 You: \")\n",
    "    if user_input.lower() in {\"exit\", \"quit\"}:\n",
    "        break\n",
    "    response = atc_agent.run(user_input)\n",
    "    print(\"🤖 ATC Agent:\", response)\n",
    "\n",
    "\n",
    "\n",
    "# flight_id = \"UN002\"  # replace with one from your DB\n",
    "\n",
    "# prompt = f\"\"\"\n",
    "# Give me a summary of ATC report for flight {flight_id}.\n",
    "\n",
    "# - Check for any delays or schedule conflicts.\n",
    "# - Check if it's deviated or off-course in geospatial data.\n",
    "# - Fetch current weather conditions at the flight's current position.\n",
    "# - Check the weather based on the risk score and summarize all issues found.\n",
    "# \"\"\"\n",
    "\n",
    "# response = atc_agent.run(prompt)\n",
    "# print(\"📡 ATC Summary for\", flight_id)\n",
    "# print(response)"
   ]
  },
  {
   "cell_type": "code",
   "execution_count": 0,
   "metadata": {
    "application/vnd.databricks.v1+cell": {
     "cellMetadata": {
      "byteLimit": 2048000,
      "rowLimit": 10000
     },
     "inputWidgets": {},
     "nuid": "d890e8b1-d07c-4fde-aa0b-47417e1dea14",
     "showTitle": false,
     "tableResultSettingsMap": {},
     "title": ""
    }
   },
   "outputs": [],
   "source": [
    "%pip install databricks-genai"
   ]
  },
  {
   "cell_type": "code",
   "execution_count": 0,
   "metadata": {
    "application/vnd.databricks.v1+cell": {
     "cellMetadata": {
      "byteLimit": 2048000,
      "rowLimit": 10000
     },
     "inputWidgets": {},
     "nuid": "920b6654-fa05-4192-b140-1932a153a834",
     "showTitle": false,
     "tableResultSettingsMap": {},
     "title": ""
    }
   },
   "outputs": [],
   "source": [
    "%restart_python"
   ]
  },
  {
   "cell_type": "code",
   "execution_count": 0,
   "metadata": {
    "application/vnd.databricks.v1+cell": {
     "cellMetadata": {
      "byteLimit": 2048000,
      "rowLimit": 10000
     },
     "inputWidgets": {},
     "nuid": "d309e975-0734-4e8b-a2f8-6dd54c308c7c",
     "showTitle": false,
     "tableResultSettingsMap": {},
     "title": ""
    }
   },
   "outputs": [],
   "source": [
    "%%writefile streamlit_app.py\n",
    "import streamlit as st\n",
    "from atc_agent import atc_agent  # Make sure this is importable\n",
    "\n",
    "st.title(\"🛫 ATC Agent Chat\")\n",
    "\n",
    "if \"chat_history\" not in st.session_state:\n",
    "    st.session_state.chat_history = []\n",
    "\n",
    "user_input = st.chat_input(\"Ask the ATC Agent...\")\n",
    "\n",
    "if user_input:\n",
    "    st.session_state.chat_history.append({\"role\": \"user\", \"text\": user_input})\n",
    "    with st.spinner(\"Thinking...\"):\n",
    "        response = atc_agent.run(user_input)\n",
    "    st.session_state.chat_history.append({\"role\": \"agent\", \"text\": response})\n",
    "\n",
    "for msg in st.session_state.chat_history:\n",
    "    if msg[\"role\"] == \"user\":\n",
    "        st.chat_message(\"user\").markdown(msg[\"text\"])\n",
    "    else:\n",
    "        st.chat_message(\"assistant\").markdown(msg[\"text\"])\n"
   ]
  },
  {
   "cell_type": "code",
   "execution_count": 0,
   "metadata": {
    "application/vnd.databricks.v1+cell": {
     "cellMetadata": {
      "byteLimit": 2048000,
      "rowLimit": 10000
     },
     "inputWidgets": {},
     "nuid": "a144330b-1876-41df-b0ba-a599b64fdd73",
     "showTitle": false,
     "tableResultSettingsMap": {},
     "title": ""
    }
   },
   "outputs": [],
   "source": [
    "!streamlit run streamlit_app.py\n"
   ]
  },
  {
   "cell_type": "code",
   "execution_count": 0,
   "metadata": {
    "application/vnd.databricks.v1+cell": {
     "cellMetadata": {
      "byteLimit": 2048000,
      "rowLimit": 10000
     },
     "inputWidgets": {},
     "nuid": "4b1f5b53-1818-48e0-a6a2-ae19f51fdb72",
     "showTitle": false,
     "tableResultSettingsMap": {},
     "title": ""
    }
   },
   "outputs": [],
   "source": [
    "from langgraph.graph import MessagesState\n",
    "from langchain_core.messages import SystemMessage, HumanMessage, ToolMessage\n",
    "\n",
    "from langchain_core.tools import tool\n",
    "\n",
    "from langgraph.graph import StateGraph, MessagesState, END, START\n",
    "from langchain_core.messages import SystemMessage, HumanMessage, ToolMessage\n",
    "from typing_extensions import Literal\n",
    "from IPython.display import Image, display\n",
    "\n",
    "\n",
    "tools = [\n",
    "    Tool(\n",
    "        name=\"ScheduleTrackerTool\",\n",
    "        func=query_flight_schedule,\n",
    "        description=\"Use this tool to query scheduled flights and detect conflicts, delays, or tight arrival overlaps. Accepts SQL input.\"\n",
    "    ),\n",
    "    Tool(\n",
    "        name=\"GeoTrackerTool\",\n",
    "        func=query_geotracking,\n",
    "        description=\"Use this tool to query geospatial data about flight phases and deviations from expected routes.\"\n",
    "    ),\n",
    "    Tool(\n",
    "        name=\"WeatherTrackerTool\",\n",
    "        func=query_weather,\n",
    "        description=\"Use this tool to query weather_by_flight table to get wind, visibility, storm/fog info, and help determine flight risk.\"\n",
    "    )\n",
    "]\n",
    "\n",
    "\n",
    "tools_by_name = {tool.name: tool for tool in tools}\n",
    "\n",
    "# from databricks_genai.chat_models import ChatDatabricks\n",
    "\n",
    "# llm = ChatDatabricks(model=\"databricks-meta-llama-3-70b-instruct\")\n",
    "# llm_with_tools = create_databricks_agent(llm=llm, tools=tools)\n",
    "\n",
    "llm_with_tools = llm.bind_tools(tools) \n",
    "\n",
    "# llm_with_tools = initialize_agent(\n",
    "#     tools=tools,\n",
    "#     llm=llm,\n",
    "#     agent=AgentType.ZERO_SHOT_REACT_DESCRIPTION,\n",
    "#     verbose=True,\n",
    "#     handle_parsing_errors=True\n",
    "# )\n",
    "\n",
    "\n",
    "# Nodes\n",
    "def llm_call(state: MessagesState):\n",
    "    \"\"\"LLM decides whether to call a tool or not\"\"\"\n",
    "\n",
    "    return {\n",
    "        \"messages\": [\n",
    "            llm_with_tools.invoke(\n",
    "                [\n",
    "                    SystemMessage(\n",
    "                        content=\"You are an ATC Agent. Analyze schedule, geo, and weather risk using tools.\"\n",
    "                    )\n",
    "                ]\n",
    "                + state[\"messages\"]\n",
    "            )\n",
    "        ]\n",
    "    }\n",
    "\n",
    "\n",
    "def tool_node(state: dict):\n",
    "    \"\"\"Performs the tool call\"\"\"\n",
    "\n",
    "    result = []\n",
    "    for tool_call in state[\"messages\"][-1].tool_calls:\n",
    "        tool = tools_by_name[tool_call[\"name\"]]\n",
    "        observation = tool.invoke(tool_call[\"args\"])\n",
    "        result.append(ToolMessage(content=observation, tool_call_id=tool_call[\"id\"]))\n",
    "    return {\"messages\": result}\n",
    "\n",
    "\n",
    "def should_continue(state: MessagesState) -> Literal[\"Action\", END]:\n",
    "    if state[\"messages\"][-1].tool_calls:\n",
    "        return \"Action\"\n",
    "    return END\n",
    "\n",
    "\n",
    "# Build workflow\n",
    "agent_builder = StateGraph(MessagesState)\n",
    "\n",
    "# Add nodes\n",
    "agent_builder.add_node(\"llm_call\", llm_call)\n",
    "agent_builder.add_node(\"environment\", tool_node)\n",
    "\n",
    "# Add edges to connect nodes\n",
    "agent_builder.add_edge(START, \"llm_call\")\n",
    "agent_builder.add_conditional_edges(\n",
    "    \"llm_call\",\n",
    "    should_continue,\n",
    "    {\n",
    "        # Name returned by should_continue : Name of next node to visit\n",
    "        \"Action\": \"environment\",\n",
    "        END: END,\n",
    "    },\n",
    ")\n",
    "agent_builder.add_edge(\"environment\", \"llm_call\")\n",
    "\n",
    "# Compile the agent\n",
    "agent = agent_builder.compile()\n",
    "\n",
    "# Show the agent\n",
    "display(Image(agent.get_graph(xray=True).draw_mermaid_png()))\n",
    "\n",
    "# Invoke\n",
    "\n",
    "messages = [HumanMessage(content=\"What is the status of flight UA002?\")]\n",
    "final_state = agent.invoke({\"messages\": messages})\n",
    "\n",
    "for m in final_state[\"messages\"]:\n",
    "    m.pretty_print()"
   ]
  },
  {
   "cell_type": "code",
   "execution_count": 0,
   "metadata": {
    "application/vnd.databricks.v1+cell": {
     "cellMetadata": {},
     "inputWidgets": {},
     "nuid": "878c23ef-45f2-4716-8941-3dbbc52bd72e",
     "showTitle": false,
     "tableResultSettingsMap": {},
     "title": ""
    }
   },
   "outputs": [],
   "source": []
  }
 ],
 "metadata": {
  "application/vnd.databricks.v1+notebook": {
   "computePreferences": null,
   "dashboards": [],
   "environmentMetadata": {
    "base_environment": "",
    "environment_version": "2"
   },
   "inputWidgetPreferences": null,
   "language": "python",
   "notebookMetadata": {
    "pythonIndentUnit": 4
   },
   "notebookName": "Schedule_analyzer_agent",
   "widgets": {}
  },
  "language_info": {
   "name": "python"
  }
 },
 "nbformat": 4,
 "nbformat_minor": 0
}
