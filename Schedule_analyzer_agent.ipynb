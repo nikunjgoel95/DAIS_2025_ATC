{
 "cells": [
  {
   "cell_type": "code",
   "execution_count": 0,
   "metadata": {
    "application/vnd.databricks.v1+cell": {
     "cellMetadata": {
      "byteLimit": 2048000,
      "rowLimit": 10000
     },
     "inputWidgets": {},
     "nuid": "38ff996f-2c8f-4cb3-8ad7-f87a7a44d035",
     "showTitle": false,
     "tableResultSettingsMap": {},
     "title": ""
    }
   },
   "outputs": [],
   "source": [
    "\n",
    "\n",
    "# Initialize Spark session\n",
    "from pyspark.sql import SparkSession\n",
    "\n",
    "spark = SparkSession.builder.appName(\"YourAppName\").getOrCreate()"
   ]
  },
  {
   "cell_type": "code",
   "execution_count": 0,
   "metadata": {
    "application/vnd.databricks.v1+cell": {
     "cellMetadata": {
      "byteLimit": 2048000,
      "rowLimit": 10000
     },
     "inputWidgets": {},
     "nuid": "6b60bd38-aeb8-4093-86c8-918840176465",
     "showTitle": false,
     "tableResultSettingsMap": {},
     "title": ""
    }
   },
   "outputs": [],
   "source": [
    "%pip install -r requirements.txt"
   ]
  },
  {
   "cell_type": "code",
   "execution_count": 0,
   "metadata": {
    "application/vnd.databricks.v1+cell": {
     "cellMetadata": {
      "byteLimit": 2048000,
      "rowLimit": 10000
     },
     "inputWidgets": {},
     "nuid": "01c1a2c7-c5b4-47a1-bfac-d042678cff43",
     "showTitle": false,
     "tableResultSettingsMap": {},
     "title": ""
    }
   },
   "outputs": [],
   "source": [
    "dbutils.library.restartPython()"
   ]
  },
  {
   "cell_type": "code",
   "execution_count": 0,
   "metadata": {
    "application/vnd.databricks.v1+cell": {
     "cellMetadata": {
      "byteLimit": 2048000,
      "rowLimit": 10000
     },
     "inputWidgets": {},
     "nuid": "ab98efdd-d8ca-49fd-9e3b-c7c5acdecf73",
     "showTitle": false,
     "tableResultSettingsMap": {},
     "title": ""
    }
   },
   "outputs": [],
   "source": [
    "# flight_simulator.py\n",
    "import sqlite3\n",
    "import random\n",
    "from datetime import datetime, timedelta\n",
    "# from apscheduler.schedulers.background import BackgroundScheduler\n",
    "import time\n",
    "import os\n",
    "\n",
    "DB_FILE = \"flight_status.db\"\n",
    "\n",
    "def create_sample_flight_data():\n",
    "    airlines = [\"Delta\", \"American\", \"United\", \"JetBlue\"]\n",
    "    airports = [\"JFK\", \"LAX\", \"ORD\", \"DFW\", \"ATL\", \"SEA\", \"MIA\"]\n",
    "    statuses = [\"ON TIME\", \"DELAYED\", \"CANCELLED\", \"IN AIR\"]\n",
    "    now = datetime.now().replace(second=0, microsecond=0)\n",
    "\n",
    "    flights = []\n",
    "    for i in range(10):\n",
    "        airline = random.choice(airlines)\n",
    "        origin = random.choice(airports)\n",
    "        destination = random.choice([ap for ap in airports if ap != origin])\n",
    "        departure = now + timedelta(minutes=random.randint(-60, 180))\n",
    "        arrival = departure + timedelta(hours=random.uniform(1.0, 5.0))\n",
    "        status = random.choice(statuses)\n",
    "        gate = f\"{random.choice(['A', 'B', 'C'])}{random.randint(1, 20)}\"\n",
    "        flights.append((\n",
    "            f\"{airline[:2].upper()}00{(i)}\",\n",
    "            airline,\n",
    "            origin,\n",
    "            destination,\n",
    "            departure.isoformat(),\n",
    "            arrival.isoformat(),\n",
    "            status,\n",
    "            gate\n",
    "        ))\n",
    "    return flights\n",
    "\n",
    "def init_db():\n",
    "    if os.path.exists(DB_FILE):\n",
    "        os.remove(DB_FILE)\n",
    "\n",
    "    conn = sqlite3.connect(DB_FILE)\n",
    "    cursor = conn.cursor()\n",
    "    cursor.execute(\"\"\"\n",
    "        CREATE TABLE flights (\n",
    "            flight_id TEXT,\n",
    "            airline TEXT,\n",
    "            origin TEXT,\n",
    "            destination TEXT,\n",
    "            sched_departure TEXT,\n",
    "            sched_arrival TEXT,\n",
    "            status TEXT,\n",
    "            gate TEXT\n",
    "        )\n",
    "    \"\"\")\n",
    "    cursor.executemany(\"\"\"\n",
    "        INSERT INTO flights VALUES (?, ?, ?, ?, ?, ?, ?, ?)\n",
    "    \"\"\", create_sample_flight_data())\n",
    "    conn.commit()\n",
    "    conn.close()\n",
    "    print(\"Initialized flight_status.db with mock flight data.\")\n",
    "\n",
    "def update_random_flight_status():\n",
    "    conn = sqlite3.connect(DB_FILE)\n",
    "    cursor = conn.cursor()\n",
    "\n",
    "    cursor.execute(\"SELECT flight_id FROM flights ORDER BY RANDOM() LIMIT 1\")\n",
    "    result = cursor.fetchone()\n",
    "    if not result:\n",
    "        return\n",
    "    flight_id = result[0]\n",
    "\n",
    "    new_status = random.choice([\"ON TIME\", \"DELAYED\", \"CANCELLED\", \"IN AIR\"])\n",
    "    cursor.execute(\"\"\"\n",
    "        UPDATE flights\n",
    "        SET status = ?, sched_departure = ?\n",
    "        WHERE flight_id = ?\n",
    "    \"\"\", (new_status, datetime.now().isoformat(), flight_id))\n",
    "\n",
    "    conn.commit()\n",
    "\n",
    "    cursor.execute(\"SELECT * FROM flights WHERE flight_id = ?\", (flight_id,))\n",
    "    flight = cursor.fetchone()\n",
    "    conn.close()\n",
    "\n",
    "    print(f\"🛩️ [{datetime.now().strftime('%H:%M:%S')}] Updated Flight {flight[0]} → Status: {flight[6]}\")\n",
    "\n",
    "# def start_scheduler():\n",
    "#     scheduler = BackgroundScheduler()\n",
    "#     scheduler.add_job(update_random_flight_status, 'interval', seconds=10)\n",
    "#     scheduler.start()\n",
    "#     print(\"🚀 Live update scheduler started (every 10s).\")\n"
   ]
  },
  {
   "cell_type": "code",
   "execution_count": 0,
   "metadata": {
    "application/vnd.databricks.v1+cell": {
     "cellMetadata": {
      "byteLimit": 2048000,
      "rowLimit": 10000
     },
     "inputWidgets": {},
     "nuid": "f9ded5cb-8f17-41bd-b404-53a5d9b11898",
     "showTitle": false,
     "tableResultSettingsMap": {},
     "title": ""
    }
   },
   "outputs": [],
   "source": [
    "init_db()\n",
    "# start_scheduler()\n",
    "\n",
    "# try:\n",
    "#     while True:\n",
    "#         time.sleep(60)  # Keeps the script alive\n",
    "# except (KeyboardInterrupt, SystemExit):\n",
    "#     print(\"Scheduler stopped.\")"
   ]
  },
  {
   "cell_type": "code",
   "execution_count": 0,
   "metadata": {
    "application/vnd.databricks.v1+cell": {
     "cellMetadata": {
      "byteLimit": 2048000,
      "rowLimit": 10000
     },
     "inputWidgets": {},
     "nuid": "0fff98ec-3511-4722-b6af-af7cf182bb64",
     "showTitle": false,
     "tableResultSettingsMap": {},
     "title": ""
    }
   },
   "outputs": [],
   "source": [
    "from databricks_langchain import ChatDatabricks\n",
    "from databricks.sdk import WorkspaceClient\n",
    "import os\n",
    "\n",
    "w = WorkspaceClient()\n",
    "\n",
    "os.environ[\"DATABRICKS_HOST\"] = w.config.host\n",
    "os.environ[\"DATABRICKS_TOKEN\"] = w.tokens.create(comment=\"for model serving\", lifetime_seconds=1200).token_value\n",
    "\n",
    "llm = ChatDatabricks(endpoint=\"databricks-llama-4-maverick\")"
   ]
  },
  {
   "cell_type": "code",
   "execution_count": 0,
   "metadata": {
    "application/vnd.databricks.v1+cell": {
     "cellMetadata": {
      "byteLimit": 2048000,
      "rowLimit": 10000
     },
     "inputWidgets": {},
     "nuid": "9afb879d-9f31-4c78-89a3-071d71422398",
     "showTitle": false,
     "tableResultSettingsMap": {},
     "title": ""
    }
   },
   "outputs": [],
   "source": [
    "llm.invoke(\"hello, world\")"
   ]
  },
  {
   "cell_type": "code",
   "execution_count": 0,
   "metadata": {
    "application/vnd.databricks.v1+cell": {
     "cellMetadata": {
      "byteLimit": 2048000,
      "rowLimit": 10000
     },
     "inputWidgets": {},
     "nuid": "9b3a7d07-136d-406f-9edc-989476bb30ae",
     "showTitle": false,
     "tableResultSettingsMap": {},
     "title": ""
    }
   },
   "outputs": [],
   "source": [
    "from langchain.agents import initialize_agent, Tool\n",
    "from langchain.tools import tool\n",
    "from langchain.agents.agent_types import AgentType\n",
    "# from langchain_anthropic import ChatAnthropic\n",
    "import sqlite3\n",
    "import os\n",
    "\n",
    "DB_PATH = \"flight_status.db\"\n",
    "\n",
    "@tool\n",
    "def query_flight_schedule(sql: str) -> str:\n",
    "    \"\"\"Run a SQL query on the flight_status.db file.\"\"\"\n",
    "    try:\n",
    "        conn = sqlite3.connect(DB_PATH)\n",
    "        cursor = conn.cursor()\n",
    "        cursor.execute(sql)\n",
    "        rows = cursor.fetchall()\n",
    "        col_names = [description[0] for description in cursor.description]\n",
    "        conn.close()\n",
    "        return \"\\n\".join([str(dict(zip(col_names, row))) for row in rows]) or \"No results.\"\n",
    "    except Exception as e:\n",
    "        return f\"SQL Error: {str(e)}\"\n",
    "\n",
    "tools = [\n",
    "    Tool.from_function(\n",
    "        func=query_flight_schedule,\n",
    "        name=\"query_flight_schedule\",\n",
    "        description=\"Run a SQL query on the flight schedule DB to get information about flights, gates, times, delays, etc.\"\n",
    "    )\n",
    "]\n",
    "\n",
    "agent = initialize_agent(\n",
    "    tools,\n",
    "    llm,\n",
    "    agent=AgentType.ZERO_SHOT_REACT_DESCRIPTION,\n",
    "    verbose=True\n",
    ")\n",
    "\n",
    "if __name__ == \"__main__\":\n",
    "    response = agent.run(\n",
    "        \"Check for any risky issues in the next 2 hours of scheduled flights: gate conflicts, delays, or congestion.\"\n",
    "    )\n",
    "    print(\"📋 Agent Report:\")\n",
    "    print(response)\n"
   ]
  },
  {
   "cell_type": "code",
   "execution_count": 0,
   "metadata": {
    "application/vnd.databricks.v1+cell": {
     "cellMetadata": {},
     "inputWidgets": {},
     "nuid": "c20a6b13-efc2-4735-a27d-651e218ab72f",
     "showTitle": false,
     "tableResultSettingsMap": {},
     "title": ""
    }
   },
   "outputs": [],
   "source": []
  }
 ],
 "metadata": {
  "application/vnd.databricks.v1+notebook": {
   "computePreferences": null,
   "dashboards": [],
   "environmentMetadata": {
    "base_environment": "",
    "environment_version": "2"
   },
   "inputWidgetPreferences": null,
   "language": "python",
   "notebookMetadata": {
    "pythonIndentUnit": 4
   },
   "notebookName": "Schedule_analyzer_agent",
   "widgets": {}
  },
  "language_info": {
   "name": "python"
  }
 },
 "nbformat": 4,
 "nbformat_minor": 0
}
