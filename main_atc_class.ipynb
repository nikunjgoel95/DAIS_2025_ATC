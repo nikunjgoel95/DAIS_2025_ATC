{
 "cells": [
  {
   "cell_type": "markdown",
   "metadata": {
    "application/vnd.databricks.v1+cell": {
     "cellMetadata": {},
     "inputWidgets": {},
     "nuid": "d29411cf-90f0-4202-a004-eacea6bc7ade",
     "showTitle": false,
     "tableResultSettingsMap": {},
     "title": ""
    }
   },
   "source": [
    "# SkyLink Navigator - Main ATC Agent with Tools\n",
    "\n",
    "This notebook implements the main SkyLink Navigator agent that has access to 4 tools and uses Claude Sonnet for final response generation.\n",
    "\n",
    "## Workflow Overview:\n",
    "```\n",
    "START → ATC_MAIN_AGENT → Claude Sonnet Response → END\n",
    "           ↓\n",
    "   ┌─────────────────┐\n",
    "   │     TOOLS       │\n",
    "   │  • GeoTracker   │\n",
    "   │  • Scheduler    │\n",
    "   │  • Weather      │\n",
    "   │  • CommsAgent   │\n",
    "   └─────────────────┘\n",
    "```"
   ]
  },
  {
   "cell_type": "code",
   "execution_count": 0,
   "metadata": {
    "application/vnd.databricks.v1+cell": {
     "cellMetadata": {
      "byteLimit": 2048000,
      "rowLimit": 10000
     },
     "inputWidgets": {},
     "nuid": "4ddb1c5c-f8ce-4239-ba56-612468841e82",
     "showTitle": false,
     "tableResultSettingsMap": {},
     "title": ""
    }
   },
   "outputs": [],
   "source": [
    "%pip install -r requirements.txt"
   ]
  },
  {
   "cell_type": "code",
   "execution_count": 0,
   "metadata": {
    "application/vnd.databricks.v1+cell": {
     "cellMetadata": {
      "byteLimit": 2048000,
      "rowLimit": 10000
     },
     "inputWidgets": {},
     "nuid": "60d171ed-244c-4596-a6ba-33c74725f638",
     "showTitle": false,
     "tableResultSettingsMap": {},
     "title": ""
    }
   },
   "outputs": [],
   "source": [
    "dbutils.library.restartPython()"
   ]
  },
  {
   "cell_type": "code",
   "execution_count": 0,
   "metadata": {
    "application/vnd.databricks.v1+cell": {
     "cellMetadata": {
      "byteLimit": 2048000,
      "rowLimit": 10000
     },
     "inputWidgets": {},
     "nuid": "63b2c2f9-17c7-40fe-a0ee-fab627469d56",
     "showTitle": false,
     "tableResultSettingsMap": {},
     "title": ""
    }
   },
   "outputs": [],
   "source": [
    "from databricks_langchain import ChatDatabricks\n",
    "from databricks.sdk import WorkspaceClient\n",
    "import os\n",
    "\n",
    "w = WorkspaceClient()\n",
    "\n",
    "os.environ[\"DATABRICKS_HOST\"] = w.config.host\n",
    "os.environ[\"DATABRICKS_TOKEN\"] = w.tokens.create(comment=\"for model serving\", lifetime_seconds=1200).token_value\n",
    "\n",
    "llm = ChatDatabricks(endpoint=\"databricks-llama-4-maverick\")"
   ]
  },
  {
   "cell_type": "code",
   "execution_count": 0,
   "metadata": {
    "application/vnd.databricks.v1+cell": {
     "cellMetadata": {
      "byteLimit": 2048000,
      "rowLimit": 10000
     },
     "inputWidgets": {},
     "nuid": "81551731-c194-4586-bbab-66d582c29c69",
     "showTitle": true,
     "tableResultSettingsMap": {},
     "title": "STATE"
    }
   },
   "outputs": [],
   "source": [
    "from pydantic import BaseModel\n",
    "\n",
    "class CommsAnalysisResponse(BaseModel):\n",
    "    commsAnalysis: str"
   ]
  },
  {
   "cell_type": "code",
   "execution_count": 0,
   "metadata": {
    "application/vnd.databricks.v1+cell": {
     "cellMetadata": {
      "byteLimit": 2048000,
      "rowLimit": 10000
     },
     "inputWidgets": {},
     "nuid": "ebef2d1c-15ee-4b4b-8855-7c459ec486c2",
     "showTitle": false,
     "tableResultSettingsMap": {},
     "title": ""
    }
   },
   "outputs": [],
   "source": [
    "from langchain.agents import initialize_agent, Tool\n",
    "from langchain.tools import tool\n",
    "from langchain.agents.agent_types import AgentType\n",
    "from langgraph.graph import StateGraph, END, START\n",
    "from langgraph.prebuilt import ToolNode\n",
    "import sqlite3\n",
    "import os\n",
    "\n",
    "@tool\n",
    "def query_flight_schedule(sql: str) -> str:\n",
    "    \"\"\"Run a SQL query on the flight_status.db file.\"\"\"\n",
    "    try:\n",
    "        conn = sqlite3.connect(\"flight_status.db\")\n",
    "        cursor = conn.cursor()\n",
    "        cursor.execute(sql)\n",
    "        rows = cursor.fetchall()\n",
    "        col_names = [description[0] for description in cursor.description]\n",
    "        conn.close()\n",
    "        return \"\\n\".join([str(dict(zip(col_names, row))) for row in rows]) or \"No results.\"\n",
    "    except Exception as e:\n",
    "        return f\"SQL Error: {str(e)}\"\n",
    "\n",
    "\n",
    "@tool\n",
    "def query_geotracking(sql: str) -> str:\n",
    "    \"\"\"Run a SQL query on the geotracking.db file.\"\"\"\n",
    "    try:\n",
    "        conn = sqlite3.connect(\"geo_tracking.db\")\n",
    "        cursor = conn.cursor()\n",
    "        cursor.execute(sql)\n",
    "        rows = cursor.fetchall()\n",
    "        col_names = [description[0] for description in cursor.description]\n",
    "        conn.close()\n",
    "        return \"\\n\".join([str(dict(zip(col_names, row))) for row in rows]) or \"No results.\"\n",
    "    except Exception as e:\n",
    "        return f\"SQL Error: {str(e)}\"\n",
    "    \n",
    "\n",
    "\n",
    "@tool\n",
    "def query_weather(sql: str) -> str:\n",
    "    \"\"\"Run a SQL query on the weather.db file.\"\"\"\n",
    "    try:\n",
    "        conn = sqlite3.connect(\"weather.db\")\n",
    "        cursor = conn.cursor()\n",
    "        cursor.execute(sql)\n",
    "        rows = cursor.fetchall()\n",
    "        columns = [desc[0] for desc in cursor.description]\n",
    "        conn.close()\n",
    "        return \"\\n\".join([str(dict(zip(columns, row))) for row in rows]) or \"No results.\"\n",
    "    except Exception as e:\n",
    "        return f\"SQL Error in Weather Tool: {e}\"\n",
    "    \n",
    "@tool\n",
    "def comms_agent(message: str) -> CommsAnalysisResponse:\n",
    "    \"\"\"\n",
    "    Analyze pilot communication and return LLM analysis.\n",
    "    Returns simple JSON: {\"commsAnalysis\": \"analysis text\"}\n",
    "    \"\"\"\n",
    "    from databricks_langchain import ChatDatabricks\n",
    "    \n",
    "    # Initialize Databricks LLM\n",
    "    llm = ChatDatabricks(\n",
    "        endpoint=\"databricks-meta-llama-3-3-70b-instruct\",\n",
    "    )\n",
    "    \n",
    "    # Simple analysis prompt\n",
    "    analysis_prompt = f\"\"\"\n",
    "    You are an Air Traffic Controller analyzing pilot communication. \n",
    "    Provide a brief analysis of this message including intent, urgency, and any key information extracted.\n",
    "\n",
    "    PILOT MESSAGE: \"{message}\"\n",
    "\n",
    "    Provide a concise analysis in 1-2 sentences:\n",
    "    \"\"\"\n",
    "    \n",
    "    llm = llm.with_structured_output(CommsAnalysisResponse)\n",
    "    return llm.invoke(analysis_prompt)\n",
    "            \n",
    "    #     except Exception as e:\n",
    "    #         # Fallback analysis\n",
    "    #         fallback_text = _simple_fallback_analysis(message)\n",
    "    #         result = CommsAnalysisResponse(commsAnalysis=fallback_text)\n",
    "    #         return result.model_dump_json()\n",
    "            \n",
    "    # except Exception as e:\n",
    "    #     # Error fallback\n",
    "    #     error_result = CommsAnalysisResponse(\n",
    "    #         commsAnalysis=f\"Communication analysis error: {str(e)}. Message received: {message[:50]}...\"\n",
    "    #     )\n",
    "    #     return error_result.model_dump_json()\n",
    "    \n",
    "# def _simple_fallback_analysis(message: str) -> str:\n",
    "#     \"\"\"Simple rule-based fallback analysis\"\"\"\n",
    "#     msg = message.lower()\n",
    "    \n",
    "#     # Extract callsign\n",
    "#     callsign = \"Aircraft\"\n",
    "#     for word in message.split():\n",
    "#         if len(word) >= 3 and word.replace('-', '').isalnum():\n",
    "#             callsign = word.upper()\n",
    "#             break\n",
    "    \n",
    "#     # Quick analysis\n",
    "#     if \"mayday\" in msg or \"emergency\" in msg:\n",
    "#         return f\"EMERGENCY detected from {callsign}. Immediate priority handling required.\"\n",
    "#     elif \"clearance\" in msg:\n",
    "#         return f\"{callsign} requesting clearance. Standard priority, prepare clearance delivery.\"\n",
    "#     elif \"weather\" in msg:\n",
    "#         return f\"{callsign} requesting weather information. Routine request.\"\n",
    "#     elif \"taxi\" in msg:\n",
    "#         return f\"{callsign} requesting taxi clearance. Ground movement coordination needed.\"\n",
    "#     elif \"traffic\" in msg:\n",
    "#         return f\"{callsign} requesting traffic advisory. Check surrounding aircraft positions.\"\n",
    "#     else:\n",
    "#         return f\"General communication from {callsign}. Standard acknowledgment required.\""
   ]
  },
  {
   "cell_type": "code",
   "execution_count": 0,
   "metadata": {
    "application/vnd.databricks.v1+cell": {
     "cellMetadata": {
      "byteLimit": 2048000,
      "rowLimit": 10000
     },
     "inputWidgets": {},
     "nuid": "1a89e94e-5017-4543-94b5-a7fdd627fe04",
     "showTitle": false,
     "tableResultSettingsMap": {},
     "title": ""
    }
   },
   "outputs": [],
   "source": [
    "tools = [\n",
    "    Tool(\n",
    "        name=\"ScheduleTrackerTool\",\n",
    "        func=query_flight_schedule,\n",
    "        description=\"Use this tool to query scheduled flights and detect conflicts, delays, or tight arrival overlaps. Accepts SQL input.\"\n",
    "    ),\n",
    "    Tool(\n",
    "        name=\"GeoTrackerTool\",\n",
    "        func=query_geotracking,\n",
    "        description=\"Use this tool to query geospatial data about flight phases and deviations from expected routes.\"\n",
    "    ),\n",
    "    Tool(\n",
    "        name=\"WeatherTrackerTool\",\n",
    "        func=query_weather,\n",
    "        description=\"Use this tool to query weather_by_flight table to get wind, visibility, storm/fog info, and help determine flight risk.\"\n",
    "    )\n",
    "    ,\n",
    "    Tool(\n",
    "        name=\"CommsAnalysisTool\",\n",
    "        func=comms_agent,\n",
    "        description=\"Use this tool to analyze pilot communication and provide a brief analysis of intent, urgency, and key information extracted.\"\n",
    "    )\n",
    "]"
   ]
  },
  {
   "cell_type": "code",
   "execution_count": 0,
   "metadata": {
    "application/vnd.databricks.v1+cell": {
     "cellMetadata": {
      "byteLimit": 2048000,
      "rowLimit": 10000
     },
     "inputWidgets": {},
     "nuid": "2ac7bcd2-6020-45f1-b892-9a9075f86fc6",
     "showTitle": false,
     "tableResultSettingsMap": {},
     "title": ""
    }
   },
   "outputs": [],
   "source": [
    "from typing import Dict, Any, List, Optional, Annotated\n",
    "from typing_extensions import TypedDict\n",
    "from langchain.schema import BaseMessage, HumanMessage, AIMessage, SystemMessage\n",
    "from langgraph.checkpoint.base import BaseCheckpointSaver\n",
    "\n",
    "class ATCState(TypedDict):\n",
    "    \"\"\"\n",
    "    State management for tool-based ATC workflow\n",
    "    \"\"\"\n",
    "    # Input and identification\n",
    "    messages: Annotated[List[BaseMessage], lambda x, y: x + y if isinstance(y, list) else x + [y]]"
   ]
  },
  {
   "cell_type": "code",
   "execution_count": 0,
   "metadata": {
    "application/vnd.databricks.v1+cell": {
     "cellMetadata": {
      "byteLimit": 2048000,
      "rowLimit": 10000
     },
     "inputWidgets": {},
     "nuid": "d08d4cdd-b279-445c-b465-83103426f5dc",
     "showTitle": false,
     "tableResultSettingsMap": {},
     "title": ""
    }
   },
   "outputs": [],
   "source": [
    "def receive_pilot_message(state: ATCState) -> Dict[str, Any]:\n",
    "    \"\"\"\n",
    "    Main ATC Agent with Databricks LLM-driven tool selection and response generation\n",
    "    \"\"\"\n",
    "    print(\"🤖 LLM Tool Selector: Analyzing pilot request...\")\n",
    "    \n",
    "\n",
    "    pass"
   ]
  },
  {
   "cell_type": "code",
   "execution_count": 0,
   "metadata": {
    "application/vnd.databricks.v1+cell": {
     "cellMetadata": {
      "byteLimit": 2048000,
      "rowLimit": 10000
     },
     "inputWidgets": {},
     "nuid": "e9fa359b-17b6-4b63-ab0a-3fc341530b14",
     "showTitle": false,
     "tableResultSettingsMap": {},
     "title": ""
    }
   },
   "outputs": [],
   "source": [
    "class SkyLinkNavigator:\n",
    "    \"\"\"\n",
    "    Main ATC Agent with Databricks LLM-driven tool selection and response generation\n",
    "    \"\"\"\n",
    "    \n",
    "    def __init__(self):\n",
    "        self.graph = None\n",
    "        self.tools = tools\n",
    "        self.tool_node = ToolNode(self.tools)\n",
    "        \n",
    "        # Initialize Databricks LLM for intelligent tool selection and response generation\n",
    "        self.llm = ChatDatabricks(\n",
    "            endpoint=\"databricks-llama-4-maverick\",\n",
    "        )\n",
    "        \n",
    "        self._build_atc_workflow()\n",
    "    \n",
    "    def _build_atc_workflow(self):\n",
    "        \"\"\"\n",
    "        Build LLM-driven ATC workflow: Input → LLM Tool Selection → Tool Execution → LLM Response → End\n",
    "        \"\"\"\n",
    "        workflow = StateGraph(ATCState)\n",
    "\n",
    "        # Define workflow nodes\n",
    "        workflow.add_node(\"receive_pilot_message\", receive_pilot_message)\n",
    "\n",
    "\n",
    "        # Define workflow edges\n",
    "        workflow.add_edge(START, \"receive_pilot_message\")\n",
    "        workflow.add_edge(\"receive_pilot_message\", END)\n",
    "\n",
    "        self.graph = workflow.compile()\n",
    "        \n",
    "        # # Main workflow nodes\n",
    "        # workflow.add_node(\"llm_tool_selector\", self._llm_tool_selection)\n",
    "        # workflow.add_node(\"execute_tools\", self._execute_selected_tools)\n",
    "        # workflow.add_node(\"llm_response_generator\", self._llm_generate_response)\n",
    "        \n",
    "        # # Set entry point\n",
    "        # workflow.set_entry_point(\"llm_tool_selector\")\n",
    "        \n",
    "        # # LLM-driven workflow\n",
    "        # workflow.add_edge(\"llm_tool_selector\", \"execute_tools\")\n",
    "        # workflow.add_edge(\"execute_tools\", \"llm_response_generator\")\n",
    "        # workflow.add_edge(\"llm_response_generator\", END)\n",
    "        \n",
    "        # self.graph = workflow.compile()\n",
    "        # print(\"✅ LLM-Driven ATC Workflow compiled successfully\")"
   ]
  },
  {
   "cell_type": "code",
   "execution_count": 0,
   "metadata": {
    "application/vnd.databricks.v1+cell": {
     "cellMetadata": {
      "byteLimit": 2048000,
      "rowLimit": 10000
     },
     "inputWidgets": {},
     "nuid": "3cf8689a-4e21-44fc-b3c1-b1c7ee52d9c1",
     "showTitle": false,
     "tableResultSettingsMap": {},
     "title": ""
    }
   },
   "outputs": [],
   "source": [
    "navigator = SkyLinkNavigator()"
   ]
  },
  {
   "cell_type": "code",
   "execution_count": 0,
   "metadata": {
    "application/vnd.databricks.v1+cell": {
     "cellMetadata": {
      "byteLimit": 2048000,
      "rowLimit": 10000
     },
     "inputWidgets": {},
     "nuid": "e407d015-1e8a-4078-a24d-8ab6dd8fc5e8",
     "showTitle": false,
     "tableResultSettingsMap": {},
     "title": ""
    }
   },
   "outputs": [],
   "source": [
    "from IPython.display import Image, display\n",
    "\n",
    "display(Image(navigator.graph.get_graph().draw_mermaid_png()))"
   ]
  },
  {
   "cell_type": "code",
   "execution_count": 0,
   "metadata": {
    "application/vnd.databricks.v1+cell": {
     "cellMetadata": {
      "byteLimit": 2048000,
      "rowLimit": 10000
     },
     "inputWidgets": {},
     "nuid": "8be04c72-a8da-4edd-925c-5f616fb9cdb7",
     "showTitle": false,
     "tableResultSettingsMap": {},
     "title": ""
    }
   },
   "outputs": [],
   "source": [
    "# {\"messages\": [{\"role\": \"user\", \"content\": \"book a stay at McKittrick hotel\"}\n",
    "\n",
    "navigator.graph.invoke(\"Hi There!\")"
   ]
  },
  {
   "cell_type": "code",
   "execution_count": 0,
   "metadata": {
    "application/vnd.databricks.v1+cell": {
     "cellMetadata": {
      "byteLimit": 2048000,
      "rowLimit": 10000
     },
     "inputWidgets": {},
     "nuid": "3b7a430d-d8ab-42f3-a590-73acc2acfad8",
     "showTitle": false,
     "tableResultSettingsMap": {},
     "title": ""
    }
   },
   "outputs": [],
   "source": [
    "def stream_graph_updates(user_input: str):\n",
    "    for event in navigator.graph.stream({\"messages\": [{\"role\": \"user\", \"content\": user_input}]}):\n",
    "        for value in event.values():\n",
    "            print(\"Assistant:\", value[\"messages\"][-1].content)\n",
    "\n",
    "while True:\n",
    "    user_input = input(\"User: \")\n",
    "    if user_input.lower() in [\"quit\", \"exit\", \"q\"]:\n",
    "        print(\"Goodbye!\")\n",
    "        break\n",
    "\n",
    "    stream_graph_updates(user_input)"
   ]
  },
  {
   "cell_type": "code",
   "execution_count": 0,
   "metadata": {
    "application/vnd.databricks.v1+cell": {
     "cellMetadata": {},
     "inputWidgets": {},
     "nuid": "08f12004-2de3-4616-bc72-94108d759b0c",
     "showTitle": false,
     "tableResultSettingsMap": {},
     "title": ""
    }
   },
   "outputs": [],
   "source": []
  }
 ],
 "metadata": {
  "application/vnd.databricks.v1+notebook": {
   "computePreferences": null,
   "dashboards": [],
   "environmentMetadata": {
    "base_environment": "",
    "environment_version": "2"
   },
   "inputWidgetPreferences": null,
   "language": "python",
   "notebookMetadata": {
    "pythonIndentUnit": 4
   },
   "notebookName": "main_atc_class",
   "widgets": {}
  },
  "language_info": {
   "name": "python"
  }
 },
 "nbformat": 4,
 "nbformat_minor": 0
}
